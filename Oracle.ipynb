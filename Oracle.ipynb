{
 "cells": [
  {
   "cell_type": "code",
   "execution_count": 16,
   "id": "8eadfccc-c05f-4b2d-af21-0d8d0635a53c",
   "metadata": {
    "tags": []
   },
   "outputs": [
    {
     "name": "stdout",
     "output_type": "stream",
     "text": [
      "h:\\programmer\\2023\n"
     ]
    }
   ],
   "source": [
    "# Относительные ссылки, включая импорты, относительно корневой папки проекта\n",
    "import os\n",
    "os.chdir(os.path.dirname(os.getcwd()))\n",
    "os.chdir('h:/programmer/2023/Oracle/')\n",
    "print(os.path.dirname(os.getcwd()))\n",
    "from datetime import datetime\n",
    "import pandas as pd"
   ]
  },
  {
   "cell_type": "code",
   "execution_count": 17,
   "id": "750abcbe-88e9-49fd-a390-427ded44e24b",
   "metadata": {
    "tags": []
   },
   "outputs": [
    {
     "name": "stdout",
     "output_type": "stream",
     "text": [
      "2023-04-01 00:00:00\n",
      "2023-05-01 00:00:00\n",
      "2023-06-01 00:00:00\n",
      "2023-07-01 00:00:00\n",
      "2023-08-01 00:00:00\n"
     ]
    }
   ],
   "source": [
    "# Факт на задание\n",
    "fact = pd.read_csv(\"./Трек 1 - ПГК Оракул/fact_train_test.csv\", sep=\";\", decimal=\",\", encoding=\"windows-1251\")\n",
    "\n",
    "fact[\"period\"] = fact[\"period\"].astype(\"datetime64[ns]\")\n",
    "# fact - уже обрезанная выборка\n",
    "\n",
    "# Пример прогноза - наивный, копия последнего факта\n",
    "result = []\n",
    "last_known_fact_month = fact[\"period\"].max()\n",
    "test_periods = pd.date_range(start=last_known_fact_month, periods=6, freq='MS', inclusive='right')\n",
    "for period in test_periods:\n",
    "    print(period)\n",
    "    month_forecast = fact[fact[\"period\"] == last_known_fact_month].reset_index(drop=True)\n",
    "    month_forecast[\"period\"] = period\n",
    "    result.append(month_forecast)\n",
    "result = pd.concat(result).reset_index(drop=True)\n",
    "result.rename(columns={\"real_wagon_count\": \"forecast_wagon_count\", \"real_weight\": \"forecast_weight\"}, inplace=True)\n",
    "result.to_csv(\"./forecast_example.csv\", index=False, sep=\";\", decimal=\",\", encoding=\"windows-1251\")"
   ]
  },
  {
   "cell_type": "code",
   "execution_count": 8,
   "id": "ac55c0d0-ba2e-4f46-8b10-be4b9525cc4f",
   "metadata": {
    "tags": []
   },
   "outputs": [],
   "source": [
    "# Относительные ссылки, включая импорты, относительно корневой папки проекта\n",
    "import os\n",
    "os.chdir(os.path.dirname(os.getcwd()))\n",
    "\n",
    "import pandas as pd\n",
    "import numpy as np"
   ]
  },
  {
   "cell_type": "code",
   "execution_count": 18,
   "id": "7819fac4-5f69-4451-9bd6-9aa9f9aaf5f7",
   "metadata": {
    "tags": []
   },
   "outputs": [],
   "source": [
    "def add_master_data_mappings(df: pd.DataFrame) -> pd.DataFrame:\n",
    "    # = Пути к справочникам - откорректировать если в реальной системе будут лежать по другому адресу =\n",
    "    client_mapping_file = \"./Трек 1 - ПГК Оракул/client_mapping.csv\"\n",
    "    freight_mapping_file = \"./Трек 1 - ПГК Оракул/freight_mapping.csv\"\n",
    "    station_mapping_file = \"./Трек 1 - ПГК Оракул/station_mapping.csv\"\n",
    "\n",
    "    # Клиент - холдинг\n",
    "    client_mapping = pd.read_csv(\n",
    "        client_mapping_file,\n",
    "        sep=\";\",\n",
    "        decimal=\",\",\n",
    "        encoding=\"windows-1251\",\n",
    "    )\n",
    "    df = pd.merge(df, client_mapping, how=\"left\", on=\"client_sap_id\")\n",
    "\n",
    "    # Груз\n",
    "    freight_mapping = pd.read_csv(\n",
    "        freight_mapping_file, sep=\";\", decimal=\",\", encoding=\"windows-1251\"\n",
    "    )\n",
    "    df = pd.merge(df, freight_mapping, how=\"left\", on=\"freight_id\")\n",
    "\n",
    "    # Станции\n",
    "    station_mapping = pd.read_csv(\n",
    "        station_mapping_file,\n",
    "        sep=\";\",\n",
    "        decimal=\",\",\n",
    "        encoding=\"windows-1251\",\n",
    "    )\n",
    "    df = pd.merge(\n",
    "        df,\n",
    "        station_mapping.add_prefix(\"sender_\"),\n",
    "        how=\"left\",\n",
    "        on=\"sender_station_id\",\n",
    "    )\n",
    "    df = pd.merge(\n",
    "        df,\n",
    "        station_mapping.add_prefix(\"recipient_\"),\n",
    "        how=\"left\",\n",
    "        on=\"recipient_station_id\",\n",
    "    )\n",
    "\n",
    "    return df\n",
    "\n",
    "\n",
    "def evaluate(fact: pd.DataFrame, forecast: pd.DataFrame, public: bool = True) -> float:\n",
    "    # = Параметры для расчета метрики =\n",
    "    accuracy_granularity = [\n",
    "        \"period\",\n",
    "        \"rps\",\n",
    "        \"holding_name\",\n",
    "        \"sender_department_name\",\n",
    "        \"recipient_department_name\",\n",
    "    ]\n",
    "    fact_value, forecast_value = \"real_wagon_count\", \"forecast_wagon_count\"\n",
    "    if public:\n",
    "        metric_weight = np.array([0.0, 1.0, 0.0, 0.0, 0.0])\n",
    "    else:\n",
    "        metric_weight = np.array([0.1, 0.6, 0.1, 0.1, 0.1])\n",
    "\n",
    "    # = Собственно расчет метрик =\n",
    "    # 1. Добавляем сущности верхних уровней гранулярности по справочникам\n",
    "    fact = add_master_data_mappings(fact)\n",
    "    forecast = add_master_data_mappings(forecast)\n",
    "\n",
    "    # 2. Расчет KPI\n",
    "    compare_data = pd.merge(\n",
    "        fact.groupby(accuracy_granularity, as_index=False)[fact_value].sum(),\n",
    "        forecast.groupby(accuracy_granularity, as_index=False)[forecast_value].sum(),\n",
    "        how=\"outer\",\n",
    "        on=accuracy_granularity,\n",
    "    ).fillna(0)\n",
    "    # Против самых хитрых - нецелочисленный прогноз вагоноотправок не принимаем\n",
    "    compare_data[fact_value] = np.around(compare_data[fact_value]).astype(int)\n",
    "    compare_data[forecast_value] = np.around(compare_data[forecast_value]).astype(int)\n",
    "\n",
    "    # 3. Рассчитаем метрики для каждого месяца в выборке\n",
    "    compare_data[\"ABS_ERR\"] = abs(\n",
    "        compare_data[forecast_value] - compare_data[fact_value]\n",
    "    )\n",
    "    compare_data[\"MAX\"] = abs(compare_data[[forecast_value, fact_value]].max(axis=1))\n",
    "    summary = compare_data.groupby(\"period\")[\n",
    "        [forecast_value, fact_value, \"ABS_ERR\", \"MAX\"]\n",
    "    ].sum()\n",
    "    summary[\"Forecast Accuracy\"] = 1 - summary[\"ABS_ERR\"] / summary[\"MAX\"]\n",
    "\n",
    "    # 4. Взвесим метрики отдельных месяцев для получения одной цифры score\n",
    "    score = (\n",
    "        summary[\"Forecast Accuracy\"].sort_index(ascending=True) * metric_weight\n",
    "    ).sum()\n",
    "\n",
    "    return score\n",
    "\n",
    "\n",
    "def calc_score_public(fact: pd.DataFrame, forecast: pd.DataFrame) -> float:\n",
    "    return evaluate(fact, forecast, public=True)\n",
    "\n",
    "\n",
    "def calc_score_private(fact: pd.DataFrame, forecast: pd.DataFrame) -> float:\n",
    "    return evaluate(fact, forecast, public=False)\n",
    "\n"
   ]
  },
  {
   "cell_type": "code",
   "execution_count": 20,
   "id": "d9ecb19e-778e-4824-88ee-bd2f3839ac9c",
   "metadata": {
    "tags": []
   },
   "outputs": [],
   "source": [
    "def check_missings(df: pd.DataFrame) -> pd.DataFrame:\n",
    "    \"\"\"\n",
    "    Функция для вычисления среднего и общего числа пропусков.\n",
    "\n",
    "    Parameters\n",
    "    ----------\n",
    "    df: pandas.core.DataFrame\n",
    "        Набор данных для вычисления статистики.\n",
    "\n",
    "    Returns\n",
    "    -------\n",
    "    result: pandas.core.DataFrame\n",
    "        Датафрейм со статистикой распределения пропусков.\n",
    "\n",
    "    \"\"\"\n",
    "    na = df.isnull().sum()\n",
    "    result = pd.DataFrame({\n",
    "        \"Total (всего пропусков)\": na,\n",
    "        \"Percent (процент пропусков)\": round(100*na/df.shape[0], 3),\n",
    "        \"Types (тип данных)\": df.dtypes\n",
    "    })\n",
    "    result = result[result[\"Total (всего пропусков)\"] != 0]\n",
    "    print(f\"Total NA-values (всего пропусков) = {na.sum()}\")\n",
    "    return result.T"
   ]
  },
  {
   "cell_type": "code",
   "execution_count": 21,
   "id": "84332fad-20f1-4365-8eba-8b60d5dc81b2",
   "metadata": {
    "tags": []
   },
   "outputs": [
    {
     "name": "stdout",
     "output_type": "stream",
     "text": [
      "Total NA-values (всего пропусков) = 0\n"
     ]
    },
    {
     "data": {
      "text/html": [
       "<div>\n",
       "<style scoped>\n",
       "    .dataframe tbody tr th:only-of-type {\n",
       "        vertical-align: middle;\n",
       "    }\n",
       "\n",
       "    .dataframe tbody tr th {\n",
       "        vertical-align: top;\n",
       "    }\n",
       "\n",
       "    .dataframe thead th {\n",
       "        text-align: right;\n",
       "    }\n",
       "</style>\n",
       "<table border=\"1\" class=\"dataframe\">\n",
       "  <thead>\n",
       "    <tr style=\"text-align: right;\">\n",
       "      <th></th>\n",
       "    </tr>\n",
       "  </thead>\n",
       "  <tbody>\n",
       "    <tr>\n",
       "      <th>Total (всего пропусков)</th>\n",
       "    </tr>\n",
       "    <tr>\n",
       "      <th>Percent (процент пропусков)</th>\n",
       "    </tr>\n",
       "    <tr>\n",
       "      <th>Types (тип данных)</th>\n",
       "    </tr>\n",
       "  </tbody>\n",
       "</table>\n",
       "</div>"
      ],
      "text/plain": [
       "Empty DataFrame\n",
       "Columns: []\n",
       "Index: [Total (всего пропусков), Percent (процент пропусков), Types (тип данных)]"
      ]
     },
     "execution_count": 21,
     "metadata": {},
     "output_type": "execute_result"
    }
   ],
   "source": [
    "check_missings(fact)"
   ]
  },
  {
   "cell_type": "code",
   "execution_count": 24,
   "id": "67675d4e-36e2-4f47-9a08-36f93addcbbe",
   "metadata": {
    "tags": []
   },
   "outputs": [
    {
     "data": {
      "text/html": [
       "<div>\n",
       "<style scoped>\n",
       "    .dataframe tbody tr th:only-of-type {\n",
       "        vertical-align: middle;\n",
       "    }\n",
       "\n",
       "    .dataframe tbody tr th {\n",
       "        vertical-align: top;\n",
       "    }\n",
       "\n",
       "    .dataframe thead th {\n",
       "        text-align: right;\n",
       "    }\n",
       "</style>\n",
       "<table border=\"1\" class=\"dataframe\">\n",
       "  <thead>\n",
       "    <tr style=\"text-align: right;\">\n",
       "      <th></th>\n",
       "      <th>period</th>\n",
       "      <th>rps</th>\n",
       "      <th>podrod</th>\n",
       "      <th>filial</th>\n",
       "      <th>client_sap_id</th>\n",
       "      <th>freight_id</th>\n",
       "      <th>sender_station_id</th>\n",
       "      <th>recipient_station_id</th>\n",
       "      <th>sender_organisation_id</th>\n",
       "      <th>real_weight</th>\n",
       "      <th>real_wagon_count</th>\n",
       "    </tr>\n",
       "  </thead>\n",
       "  <tbody>\n",
       "    <tr>\n",
       "      <th>0</th>\n",
       "      <td>2012-07-01</td>\n",
       "      <td>1</td>\n",
       "      <td>5</td>\n",
       "      <td>1</td>\n",
       "      <td>328</td>\n",
       "      <td>1193</td>\n",
       "      <td>30252</td>\n",
       "      <td>13005</td>\n",
       "      <td>10036</td>\n",
       "      <td>71.0</td>\n",
       "      <td>1</td>\n",
       "    </tr>\n",
       "    <tr>\n",
       "      <th>1</th>\n",
       "      <td>2012-10-01</td>\n",
       "      <td>1</td>\n",
       "      <td>5</td>\n",
       "      <td>1</td>\n",
       "      <td>328</td>\n",
       "      <td>1193</td>\n",
       "      <td>30252</td>\n",
       "      <td>11376</td>\n",
       "      <td>10036</td>\n",
       "      <td>210.0</td>\n",
       "      <td>3</td>\n",
       "    </tr>\n",
       "    <tr>\n",
       "      <th>2</th>\n",
       "      <td>2014-03-01</td>\n",
       "      <td>0</td>\n",
       "      <td>1</td>\n",
       "      <td>1</td>\n",
       "      <td>328</td>\n",
       "      <td>3472</td>\n",
       "      <td>30252</td>\n",
       "      <td>29548</td>\n",
       "      <td>10036</td>\n",
       "      <td>67.0</td>\n",
       "      <td>1</td>\n",
       "    </tr>\n",
       "    <tr>\n",
       "      <th>3</th>\n",
       "      <td>2014-03-01</td>\n",
       "      <td>0</td>\n",
       "      <td>1</td>\n",
       "      <td>1</td>\n",
       "      <td>328</td>\n",
       "      <td>3472</td>\n",
       "      <td>30252</td>\n",
       "      <td>29158</td>\n",
       "      <td>10036</td>\n",
       "      <td>67.0</td>\n",
       "      <td>1</td>\n",
       "    </tr>\n",
       "    <tr>\n",
       "      <th>4</th>\n",
       "      <td>2014-03-01</td>\n",
       "      <td>0</td>\n",
       "      <td>2</td>\n",
       "      <td>1</td>\n",
       "      <td>328</td>\n",
       "      <td>3472</td>\n",
       "      <td>30252</td>\n",
       "      <td>27484</td>\n",
       "      <td>10036</td>\n",
       "      <td>66.0</td>\n",
       "      <td>1</td>\n",
       "    </tr>\n",
       "    <tr>\n",
       "      <th>...</th>\n",
       "      <td>...</td>\n",
       "      <td>...</td>\n",
       "      <td>...</td>\n",
       "      <td>...</td>\n",
       "      <td>...</td>\n",
       "      <td>...</td>\n",
       "      <td>...</td>\n",
       "      <td>...</td>\n",
       "      <td>...</td>\n",
       "      <td>...</td>\n",
       "      <td>...</td>\n",
       "    </tr>\n",
       "    <tr>\n",
       "      <th>3559227</th>\n",
       "      <td>2023-03-01</td>\n",
       "      <td>1</td>\n",
       "      <td>5</td>\n",
       "      <td>2</td>\n",
       "      <td>1346</td>\n",
       "      <td>1482</td>\n",
       "      <td>31438</td>\n",
       "      <td>31482</td>\n",
       "      <td>0</td>\n",
       "      <td>69.0</td>\n",
       "      <td>1</td>\n",
       "    </tr>\n",
       "    <tr>\n",
       "      <th>3559228</th>\n",
       "      <td>2023-03-01</td>\n",
       "      <td>1</td>\n",
       "      <td>5</td>\n",
       "      <td>2</td>\n",
       "      <td>1346</td>\n",
       "      <td>1492</td>\n",
       "      <td>31438</td>\n",
       "      <td>36091</td>\n",
       "      <td>27275</td>\n",
       "      <td>70.0</td>\n",
       "      <td>1</td>\n",
       "    </tr>\n",
       "    <tr>\n",
       "      <th>3559229</th>\n",
       "      <td>2023-03-01</td>\n",
       "      <td>1</td>\n",
       "      <td>5</td>\n",
       "      <td>2</td>\n",
       "      <td>1346</td>\n",
       "      <td>1492</td>\n",
       "      <td>31438</td>\n",
       "      <td>35450</td>\n",
       "      <td>27275</td>\n",
       "      <td>70.0</td>\n",
       "      <td>1</td>\n",
       "    </tr>\n",
       "    <tr>\n",
       "      <th>3559230</th>\n",
       "      <td>2023-03-01</td>\n",
       "      <td>1</td>\n",
       "      <td>5</td>\n",
       "      <td>2</td>\n",
       "      <td>1346</td>\n",
       "      <td>1492</td>\n",
       "      <td>31438</td>\n",
       "      <td>31482</td>\n",
       "      <td>0</td>\n",
       "      <td>207.0</td>\n",
       "      <td>3</td>\n",
       "    </tr>\n",
       "    <tr>\n",
       "      <th>3559231</th>\n",
       "      <td>2023-03-01</td>\n",
       "      <td>1</td>\n",
       "      <td>5</td>\n",
       "      <td>2</td>\n",
       "      <td>1346</td>\n",
       "      <td>1492</td>\n",
       "      <td>31438</td>\n",
       "      <td>31482</td>\n",
       "      <td>25816</td>\n",
       "      <td>0.0</td>\n",
       "      <td>1</td>\n",
       "    </tr>\n",
       "  </tbody>\n",
       "</table>\n",
       "<p>3559232 rows × 11 columns</p>\n",
       "</div>"
      ],
      "text/plain": [
       "            period  rps  podrod  filial  client_sap_id  freight_id  \\\n",
       "0       2012-07-01    1       5       1            328        1193   \n",
       "1       2012-10-01    1       5       1            328        1193   \n",
       "2       2014-03-01    0       1       1            328        3472   \n",
       "3       2014-03-01    0       1       1            328        3472   \n",
       "4       2014-03-01    0       2       1            328        3472   \n",
       "...            ...  ...     ...     ...            ...         ...   \n",
       "3559227 2023-03-01    1       5       2           1346        1482   \n",
       "3559228 2023-03-01    1       5       2           1346        1492   \n",
       "3559229 2023-03-01    1       5       2           1346        1492   \n",
       "3559230 2023-03-01    1       5       2           1346        1492   \n",
       "3559231 2023-03-01    1       5       2           1346        1492   \n",
       "\n",
       "         sender_station_id  recipient_station_id  sender_organisation_id  \\\n",
       "0                    30252                 13005                   10036   \n",
       "1                    30252                 11376                   10036   \n",
       "2                    30252                 29548                   10036   \n",
       "3                    30252                 29158                   10036   \n",
       "4                    30252                 27484                   10036   \n",
       "...                    ...                   ...                     ...   \n",
       "3559227              31438                 31482                       0   \n",
       "3559228              31438                 36091                   27275   \n",
       "3559229              31438                 35450                   27275   \n",
       "3559230              31438                 31482                       0   \n",
       "3559231              31438                 31482                   25816   \n",
       "\n",
       "         real_weight  real_wagon_count  \n",
       "0               71.0                 1  \n",
       "1              210.0                 3  \n",
       "2               67.0                 1  \n",
       "3               67.0                 1  \n",
       "4               66.0                 1  \n",
       "...              ...               ...  \n",
       "3559227         69.0                 1  \n",
       "3559228         70.0                 1  \n",
       "3559229         70.0                 1  \n",
       "3559230        207.0                 3  \n",
       "3559231          0.0                 1  \n",
       "\n",
       "[3559232 rows x 11 columns]"
      ]
     },
     "execution_count": 24,
     "metadata": {},
     "output_type": "execute_result"
    }
   ],
   "source": [
    "fact"
   ]
  },
  {
   "cell_type": "code",
   "execution_count": 47,
   "id": "bab6d0cc-74c9-46e9-942b-b01fe7cad347",
   "metadata": {
    "tags": []
   },
   "outputs": [
    {
     "data": {
      "text/plain": [
       "podrod\n",
       "5    1847759\n",
       "2     600137\n",
       "0     510857\n",
       "1     319948\n",
       "4     280478\n",
       "3         53\n",
       "Name: count, dtype: int64"
      ]
     },
     "execution_count": 47,
     "metadata": {},
     "output_type": "execute_result"
    }
   ],
   "source": [
    "fact['podrod'] = fact['podrod'].apply(lambda x: 3 if x == 9 else x)\n",
    "fact['podrod'].value_counts()"
   ]
  },
  {
   "cell_type": "code",
   "execution_count": 48,
   "id": "e2ff42bb-e292-41ca-bfa8-7439d88df0a6",
   "metadata": {
    "tags": []
   },
   "outputs": [],
   "source": [
    "cat_features = ['period', 'rps', 'podrod', 'filial', 'client_sap_id', 'freight_id', 'sender_station_id', 'recipient_station_id', 'sender_organisation_id']"
   ]
  },
  {
   "cell_type": "code",
   "execution_count": 49,
   "id": "6b54a47d-2689-45aa-87cd-102b2d67ea58",
   "metadata": {
    "tags": []
   },
   "outputs": [],
   "source": [
    "X = fact[cat_features]"
   ]
  },
  {
   "cell_type": "code",
   "execution_count": 50,
   "id": "fccbd29d-e6c1-42f1-8ed5-8caf44fa104a",
   "metadata": {
    "tags": []
   },
   "outputs": [],
   "source": [
    "y_weight = fact['real_weight']"
   ]
  },
  {
   "cell_type": "code",
   "execution_count": 51,
   "id": "ee447f2c-7830-4287-a18c-e606c3aa113b",
   "metadata": {
    "tags": []
   },
   "outputs": [],
   "source": [
    "y_count = fact['real_wagon_count']"
   ]
  },
  {
   "cell_type": "code",
   "execution_count": 70,
   "id": "7eb38be3-e253-4ca9-b09e-03c07150eb09",
   "metadata": {
    "tags": []
   },
   "outputs": [],
   "source": [
    "params = {\n",
    "        'verbose': 100,\n",
    "        'random_seed': 42,\n",
    "        'learning_rate': 0.1,\n",
    "        'eval_metric': 'AUC',        \n",
    "        'iterations':2000\n",
    "        #'cat_features': cat_features, \n",
    "}"
   ]
  },
  {
   "cell_type": "code",
   "execution_count": 71,
   "id": "4d16f5fb-19dc-452b-a5d6-7a733bf7c43e",
   "metadata": {
    "tags": []
   },
   "outputs": [],
   "source": [
    "from catboost import CatBoostRegressor\n",
    "\n",
    "model = CatBoostRegressor(**params)"
   ]
  },
  {
   "cell_type": "code",
   "execution_count": 66,
   "id": "b8909859-e9fc-4529-acd4-10fbe438d005",
   "metadata": {
    "tags": []
   },
   "outputs": [],
   "source": [
    "df = fact.drop('real_weight', axis=1)\n",
    "df = df.drop('real_wagon_count', axis=1)"
   ]
  },
  {
   "cell_type": "code",
   "execution_count": 67,
   "id": "57b27ccf-89de-4265-9d7d-168f8ca61f19",
   "metadata": {
    "tags": []
   },
   "outputs": [],
   "source": [
    "# Разделяем датафрейм на обучающую и тестовую выборки\n",
    "X_train, X_test, y_train, y_test = train_test_split(df, fact[\"real_weight\"], test_size=0.25)"
   ]
  },
  {
   "cell_type": "code",
   "execution_count": 72,
   "id": "800541a2-d04f-492c-9976-b8156bc37087",
   "metadata": {
    "tags": []
   },
   "outputs": [
    {
     "name": "stdout",
     "output_type": "stream",
     "text": [
      "0:\ttotal: 189ms\tremaining: 6m 18s\n",
      "100:\ttotal: 17.8s\tremaining: 5m 34s\n",
      "200:\ttotal: 35.4s\tremaining: 5m 17s\n",
      "300:\ttotal: 53.7s\tremaining: 5m 3s\n",
      "400:\ttotal: 1m 12s\tremaining: 4m 47s\n",
      "500:\ttotal: 1m 30s\tremaining: 4m 30s\n",
      "600:\ttotal: 1m 49s\tremaining: 4m 13s\n",
      "700:\ttotal: 2m 7s\tremaining: 3m 56s\n",
      "800:\ttotal: 2m 26s\tremaining: 3m 39s\n",
      "900:\ttotal: 2m 45s\tremaining: 3m 22s\n",
      "1000:\ttotal: 3m 4s\tremaining: 3m 4s\n",
      "1100:\ttotal: 3m 24s\tremaining: 2m 46s\n",
      "1200:\ttotal: 3m 42s\tremaining: 2m 28s\n",
      "1300:\ttotal: 4m\tremaining: 2m 9s\n",
      "1400:\ttotal: 4m 19s\tremaining: 1m 50s\n",
      "1500:\ttotal: 4m 37s\tremaining: 1m 32s\n",
      "1600:\ttotal: 4m 56s\tremaining: 1m 13s\n",
      "1700:\ttotal: 5m 14s\tremaining: 55.2s\n",
      "1800:\ttotal: 5m 32s\tremaining: 36.7s\n",
      "1900:\ttotal: 5m 50s\tremaining: 18.3s\n",
      "1999:\ttotal: 6m 8s\tremaining: 0us\n"
     ]
    },
    {
     "data": {
      "text/plain": [
       "<catboost.core.CatBoostRegressor at 0x18923ce7d50>"
      ]
     },
     "execution_count": 72,
     "metadata": {},
     "output_type": "execute_result"
    }
   ],
   "source": [
    "model.fit(X_train, y_train)"
   ]
  },
  {
   "cell_type": "code",
   "execution_count": 73,
   "id": "f4c82782-e14c-4e77-bd0b-a72d789eafba",
   "metadata": {
    "tags": []
   },
   "outputs": [
    {
     "data": {
      "text/plain": [
       "0.5957982130693116"
      ]
     },
     "execution_count": 73,
     "metadata": {},
     "output_type": "execute_result"
    }
   ],
   "source": [
    "score = model.score(X_test, y_test)\n",
    "score"
   ]
  },
  {
   "cell_type": "code",
   "execution_count": 76,
   "id": "3279565c-d91f-4640-8d7f-7519719c7107",
   "metadata": {
    "tags": []
   },
   "outputs": [],
   "source": [
    "# Разделяем датафрейм на обучающую и тестовую выборки\n",
    "X_train2, X_test2, y_train2, y_test2 = train_test_split(fact, fact[\"real_wagon_count\"], test_size=0.25)"
   ]
  },
  {
   "cell_type": "code",
   "execution_count": 77,
   "id": "a9b60b59-3dfb-4864-9ffe-7b5e91cd16b2",
   "metadata": {
    "tags": []
   },
   "outputs": [],
   "source": [
    "model2 = CatBoostRegressor(**params)"
   ]
  },
  {
   "cell_type": "code",
   "execution_count": 78,
   "id": "49a3ecf0-0c7d-4d5c-a966-2363470e0348",
   "metadata": {
    "tags": []
   },
   "outputs": [
    {
     "name": "stdout",
     "output_type": "stream",
     "text": [
      "0:\ttotal: 181ms\tremaining: 6m 1s\n",
      "100:\ttotal: 18.3s\tremaining: 5m 43s\n",
      "200:\ttotal: 34.8s\tremaining: 5m 11s\n",
      "300:\ttotal: 51.6s\tremaining: 4m 51s\n",
      "400:\ttotal: 1m 9s\tremaining: 4m 38s\n",
      "500:\ttotal: 1m 29s\tremaining: 4m 27s\n",
      "600:\ttotal: 1m 49s\tremaining: 4m 14s\n",
      "700:\ttotal: 2m 8s\tremaining: 3m 57s\n",
      "800:\ttotal: 2m 25s\tremaining: 3m 37s\n",
      "900:\ttotal: 2m 42s\tremaining: 3m 17s\n",
      "1000:\ttotal: 2m 59s\tremaining: 2m 59s\n",
      "1100:\ttotal: 3m 17s\tremaining: 2m 40s\n",
      "1200:\ttotal: 3m 33s\tremaining: 2m 22s\n",
      "1300:\ttotal: 3m 51s\tremaining: 2m 4s\n",
      "1400:\ttotal: 4m 8s\tremaining: 1m 46s\n",
      "1500:\ttotal: 4m 26s\tremaining: 1m 28s\n",
      "1600:\ttotal: 4m 44s\tremaining: 1m 10s\n",
      "1700:\ttotal: 5m 1s\tremaining: 53.1s\n",
      "1800:\ttotal: 5m 18s\tremaining: 35.2s\n",
      "1900:\ttotal: 5m 35s\tremaining: 17.5s\n",
      "1999:\ttotal: 5m 55s\tremaining: 0us\n"
     ]
    },
    {
     "data": {
      "text/plain": [
       "<catboost.core.CatBoostRegressor at 0x18935192bd0>"
      ]
     },
     "execution_count": 78,
     "metadata": {},
     "output_type": "execute_result"
    }
   ],
   "source": [
    "model2.fit(X_train2, y_train2)"
   ]
  },
  {
   "cell_type": "code",
   "execution_count": 79,
   "id": "3977cedf-5db6-46af-b13c-52b7875e635e",
   "metadata": {
    "tags": []
   },
   "outputs": [
    {
     "data": {
      "text/plain": [
       "0.9886961496251983"
      ]
     },
     "execution_count": 79,
     "metadata": {},
     "output_type": "execute_result"
    }
   ],
   "source": [
    "score2 = model2.score(X_test2, y_test2)\n",
    "score2"
   ]
  },
  {
   "cell_type": "code",
   "execution_count": null,
   "id": "5499f62a-b997-42d0-a723-93203fed5f24",
   "metadata": {},
   "outputs": [],
   "source": []
  }
 ],
 "metadata": {
  "kernelspec": {
   "display_name": "Python 3 (ipykernel)",
   "language": "python",
   "name": "python3"
  },
  "language_info": {
   "codemirror_mode": {
    "name": "ipython",
    "version": 3
   },
   "file_extension": ".py",
   "mimetype": "text/x-python",
   "name": "python",
   "nbconvert_exporter": "python",
   "pygments_lexer": "ipython3",
   "version": "3.11.5"
  }
 },
 "nbformat": 4,
 "nbformat_minor": 5
}
